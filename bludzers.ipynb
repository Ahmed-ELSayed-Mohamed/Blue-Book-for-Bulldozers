{
  "nbformat": 4,
  "nbformat_minor": 0,
  "metadata": {
    "colab": {
      "name": "bludzers.ipynb",
      "provenance": [],
      "collapsed_sections": [],
      "toc_visible": true,
      "authorship_tag": "ABX9TyMq3DupwrKzANaLkHpdbcfp",
      "include_colab_link": true
    },
    "kernelspec": {
      "name": "python3",
      "display_name": "Python 3"
    }
  },
  "cells": [
    {
      "cell_type": "markdown",
      "metadata": {
        "id": "view-in-github",
        "colab_type": "text"
      },
      "source": [
        "<a href=\"https://colab.research.google.com/github/a7medElSayed/Blue-Book-for-Bulldozers/blob/main/bludzers.ipynb\" target=\"_parent\"><img src=\"https://colab.research.google.com/assets/colab-badge.svg\" alt=\"Open In Colab\"/></a>"
      ]
    },
    {
      "cell_type": "markdown",
      "metadata": {
        "id": "G-4d-Jioq2aC"
      },
      "source": [
        "This repository represent the Notebook for the kaggle competition \"Blue Book for Bulldozers\" https://www.kaggle.com/c/bluebook-for-bulldozers"
      ]
    },
    {
      "cell_type": "markdown",
      "metadata": {
        "id": "BCb3spjBHIFH"
      },
      "source": [
        " **Introduction**"
      ]
    },
    {
      "cell_type": "markdown",
      "metadata": {
        "id": "f1nS-Sqg6-1p"
      },
      "source": [
        "we want here to predict the future sale price of a bulldozer, given its characteristics and previous examples of how much similiar bulldozers have been sold for"
      ]
    },
    {
      "cell_type": "markdown",
      "metadata": {
        "id": "TXMH6vKnHUJb"
      },
      "source": [
        "***Importing libraries***"
      ]
    },
    {
      "cell_type": "code",
      "metadata": {
        "id": "edYZUGgiq9ef"
      },
      "source": [
        "import pandas as pd \n",
        "import numpy as np\n",
        "from sklearn.ensemble import  RandomForestRegressor\n",
        "import re\n",
        "from sklearn.impute import SimpleImputer\n",
        "from IPython.display import display\n",
        "from pandas.api.types import is_string_dtype, is_numeric_dtype"
      ],
      "execution_count": null,
      "outputs": []
    },
    {
      "cell_type": "markdown",
      "metadata": {
        "id": "cJ-_53gR7yFg"
      },
      "source": [
        " **Data**\n",
        " "
      ]
    },
    {
      "cell_type": "markdown",
      "metadata": {
        "id": "QYV4I4fI73VP"
      },
      "source": [
        "# We have three main Data:\n",
        "\n",
        "\n",
        "*   Train Data\n",
        "*   Valid Data\n",
        "*   Test Data\n",
        "\n"
      ]
    },
    {
      "cell_type": "markdown",
      "metadata": {
        "id": "OzzBZNy2FRaz"
      },
      "source": [
        "**Parsing dates**\n",
        "\n",
        "When we work with time series data, we want to enrich the time & date component as much as possible.\n",
        "\n",
        "We can do that by telling pandas which of our columns has dates in it using the parse_dates parameter."
      ]
    },
    {
      "cell_type": "code",
      "metadata": {
        "id": "dX6JX-9EsRsd"
      },
      "source": [
        "data_set = pd.read_csv('/content/TrainAndValid.csv.zip', low_memory=False, \n",
        "                     parse_dates=[\"saledate\"])\n",
        "\n",
        "data_test=pd.read_csv('/content/Test.csv.zip', low_memory=False, \n",
        "                     parse_dates=[\"saledate\"])"
      ],
      "execution_count": null,
      "outputs": []
    },
    {
      "cell_type": "code",
      "metadata": {
        "id": "lSq2aPtNydVS"
      },
      "source": [
        "data_set.info()"
      ],
      "execution_count": null,
      "outputs": []
    },
    {
      "cell_type": "markdown",
      "metadata": {
        "id": "nWZCu0EiC1hG"
      },
      "source": [
        "**preprocessing Data**\n",
        "\n",
        "This dataset contains a mix of continuous and categorical variables , so we will preprocessing it\n"
      ]
    },
    {
      "cell_type": "markdown",
      "metadata": {
        "id": "oJaYYsjlDc1S"
      },
      "source": [
        "**Add datetime parameters for saledate column**\n",
        "\n",
        "we know from the description of the problem that \"sale date \" is time series so we convert it into many fields in \"int64\""
      ]
    },
    {
      "cell_type": "code",
      "metadata": {
        "id": "UJiJbg2aOkcm"
      },
      "source": [
        "data_set['saleyear']=data_set.saledate.dt.year\n",
        "data_set['salemonth']=data_set.saledate.dt.month\n",
        "data_set['saleday']=data_set.saledate.dt.day"
      ],
      "execution_count": null,
      "outputs": []
    },
    {
      "cell_type": "code",
      "metadata": {
        "id": "zrQHy851Djyl"
      },
      "source": [
        "# Test Data\n",
        "data_test['saleyear']=data_test.saledate.dt.year\n",
        "data_test['salemonth']=data_test.saledate.dt.month\n",
        "data_test['saleday']=data_test.saledate.dt.day"
      ],
      "execution_count": null,
      "outputs": []
    },
    {
      "cell_type": "code",
      "metadata": {
        "id": "TsqLjdb5QhqA"
      },
      "source": [
        "data_set.drop(columns=['saledate'],inplace=True)\n",
        "data_test.drop(columns=['saledate'],inplace=True)"
      ],
      "execution_count": null,
      "outputs": []
    },
    {
      "cell_type": "markdown",
      "metadata": {
        "id": "BzEBn54aFvY5"
      },
      "source": [
        "**Convert string to categories**\n"
      ]
    },
    {
      "cell_type": "code",
      "metadata": {
        "id": "Gh9jLaarG_73"
      },
      "source": [
        "data_set.state.unique()"
      ],
      "execution_count": null,
      "outputs": []
    },
    {
      "cell_type": "markdown",
      "metadata": {
        "id": "SjkJ6k7jM3SR"
      },
      "source": [
        "we cant use one hot encoding because as we see there are some feature have more than 15 variable .\n"
      ]
    },
    {
      "cell_type": "code",
      "metadata": {
        "id": "e7ieRWu9ws87"
      },
      "source": [
        "\n",
        "for col ,val in data_set.items():\n",
        "  if pd.api.types.is_string_dtype(val):\n",
        "    data_set[col]=val.astype(\"category\").cat.as_ordered()\n"
      ],
      "execution_count": null,
      "outputs": []
    },
    {
      "cell_type": "code",
      "metadata": {
        "id": "ZJcxKOUPPZws"
      },
      "source": [
        "#Test Data\n",
        "for col ,val in data_test.items():\n",
        "  if pd.api.types.is_string_dtype(val):\n",
        "    data_test[col]=val.astype(\"category\").cat.as_ordered()\n"
      ],
      "execution_count": null,
      "outputs": []
    },
    {
      "cell_type": "markdown",
      "metadata": {
        "id": "onEnkh2lN-Fe"
      },
      "source": [
        "we can't use Labelencoder from Sklearn because it cant handle 'nan' data\n",
        "\n"
      ]
    },
    {
      "cell_type": "code",
      "metadata": {
        "id": "ZIIA6huVN8C-"
      },
      "source": [
        "for col,val in data_set.items():\n",
        "  if  not pd.api.types.is_numeric_dtype(val):\n",
        "    data_set[col]=pd.Categorical(val).codes+1"
      ],
      "execution_count": null,
      "outputs": []
    },
    {
      "cell_type": "code",
      "metadata": {
        "id": "UzxSCRiPPvMF"
      },
      "source": [
        "for col,val in data_test.items():\n",
        "  if  not pd.api.types.is_numeric_dtype(val):\n",
        "    data_test[col]=pd.Categorical(val).codes+1"
      ],
      "execution_count": null,
      "outputs": []
    },
    {
      "cell_type": "markdown",
      "metadata": {
        "id": "eSYwCqaUP4zx"
      },
      "source": [
        "**Handling missing value**"
      ]
    },
    {
      "cell_type": "code",
      "metadata": {
        "id": "Zq_1yKK3lq7u"
      },
      "source": [
        "for col,val in data_set.items():\n",
        "  if pd.api.types.is_numeric_dtype(val):\n",
        "    if pd.isnull(val).sum():\n",
        "        data_set[col]=val.fillna(val.median())\n"
      ],
      "execution_count": null,
      "outputs": []
    },
    {
      "cell_type": "code",
      "metadata": {
        "id": "ZkF3cqUeQVo5"
      },
      "source": [
        "#Test Data\n",
        "for col,val in data_test.items():\n",
        "  if pd.api.types.is_numeric_dtype(val):\n",
        "    if pd.isnull(val).sum():\n",
        "        data_test[col]=val.fillna(val.median())\n"
      ],
      "execution_count": null,
      "outputs": []
    },
    {
      "cell_type": "markdown",
      "metadata": {
        "id": "wWl1CD-zQeTX"
      },
      "source": [
        "check if there is null value"
      ]
    },
    {
      "cell_type": "code",
      "metadata": {
        "id": "tGjH4UUjlhdk"
      },
      "source": [
        "for col,val in data_set.items():\n",
        "  if pd.api.types.is_numeric_dtype(val):\n",
        "    if pd.isnull(val).sum():\n",
        "        print(col)"
      ],
      "execution_count": null,
      "outputs": []
    },
    {
      "cell_type": "markdown",
      "metadata": {
        "id": "K6WDLuPNRMJl"
      },
      "source": [
        ""
      ]
    },
    {
      "cell_type": "code",
      "metadata": {
        "id": "hOYOGSD5FEeQ"
      },
      "source": [
        "y=data_set.SalePrice\n",
        "data_set.drop(columns=['SalePrice'],inplace=True)\n",
        "sales_id=data_test.SalesID\n",
        "data_set.drop(columns=['SalesID'],inplace=True)\n",
        "data_test.drop(columns=['SalesID'],inplace=True)\n",
        "\n"
      ],
      "execution_count": null,
      "outputs": []
    },
    {
      "cell_type": "code",
      "metadata": {
        "colab": {
          "base_uri": "https://localhost:8080/"
        },
        "id": "D-OkGw1JU_H6",
        "outputId": "58081634-cde3-4c72-f798-7e213786c6b7"
      },
      "source": [
        "type(data_set)"
      ],
      "execution_count": null,
      "outputs": [
        {
          "output_type": "execute_result",
          "data": {
            "text/plain": [
              "pandas.core.frame.DataFrame"
            ]
          },
          "metadata": {
            "tags": []
          },
          "execution_count": 65
        }
      ]
    },
    {
      "cell_type": "markdown",
      "metadata": {
        "id": "5hrfV2JahZke"
      },
      "source": [
        "***Scaling the Data***"
      ]
    },
    {
      "cell_type": "code",
      "metadata": {
        "id": "QzBvDZNoFozZ"
      },
      "source": [
        "from sklearn.preprocessing import  StandardScaler\n",
        "SC=StandardScaler()\n",
        "data_set[data_set.columns]=(SC.fit_transform(data_set[data_set.columns]))\n",
        "data_test[data_test.columns]=(SC.fit_transform(data_test[data_set.columns]))\n"
      ],
      "execution_count": null,
      "outputs": []
    },
    {
      "cell_type": "code",
      "metadata": {
        "id": "wJOBX6FbVbs4",
        "colab": {
          "base_uri": "https://localhost:8080/"
        },
        "outputId": "2bcafc28-6827-46d1-fd61-3ef611c0dd76"
      },
      "source": [
        "type(data_set)"
      ],
      "execution_count": null,
      "outputs": [
        {
          "output_type": "execute_result",
          "data": {
            "text/plain": [
              "pandas.core.frame.DataFrame"
            ]
          },
          "metadata": {
            "tags": []
          },
          "execution_count": 67
        }
      ]
    },
    {
      "cell_type": "markdown",
      "metadata": {
        "id": "hs0OXE0fhnUf"
      },
      "source": [
        "Spliting The Data \n",
        "\n",
        "\n",
        "1.   Train Data\n",
        "2.   Valid Daya\n",
        "\n"
      ]
    },
    {
      "cell_type": "markdown",
      "metadata": {
        "id": "dnBgGj1BJTzg"
      },
      "source": [
        "**Calculate size of valid data**"
      ]
    },
    {
      "cell_type": "code",
      "metadata": {
        "colab": {
          "base_uri": "https://localhost:8080/"
        },
        "id": "h6Ih3wCTIPsq",
        "outputId": "aec02246-ffa3-4dfc-f081-46a8b4f1cb7b"
      },
      "source": [
        "test_valid_size=data_test.shape[0]/ (data_set.shape[0]) \n",
        "\n",
        "test_valid_size"
      ],
      "execution_count": null,
      "outputs": [
        {
          "output_type": "execute_result",
          "data": {
            "text/plain": [
              "0.030184299415068647"
            ]
          },
          "metadata": {
            "tags": []
          },
          "execution_count": 68
        }
      ]
    },
    {
      "cell_type": "code",
      "metadata": {
        "id": "i9eyZdqkh5hj"
      },
      "source": [
        "from sklearn.model_selection import  train_test_split\n",
        "x_train,x_valid,y_train,y_valid=train_test_split(data_set,y,test_size=test_valid_size,random_state=44)"
      ],
      "execution_count": null,
      "outputs": []
    },
    {
      "cell_type": "markdown",
      "metadata": {
        "id": "80D2-ofAKXay"
      },
      "source": [
        "**Building an evaluation function**\n"
      ]
    },
    {
      "cell_type": "markdown",
      "metadata": {
        "id": "Heb30X1RBCv6"
      },
      "source": [
        "The evaluation metric for this competition is the RMSLE (root mean squared log error) between the actual and\n",
        "predicted auction prices"
      ]
    },
    {
      "cell_type": "code",
      "metadata": {
        "id": "nrutJ6UXKVH6"
      },
      "source": [
        "from sklearn.metrics import  mean_squared_log_error\n",
        "def rmse(y_test, y_preds):\n",
        "    \"\"\"\n",
        "    Calculates root mean squared error between predictions and truelabels.\n",
        "    \"\"\"\n",
        "    return np.sqrt(mean_squared_log_error(y_test, y_preds))\n",
        "def show_evalution_score (model):\n",
        "  print(\"Training score\",model.score(x_train,y_train))\n",
        "  print(\"Valid score\",model.score(x_valid,y_valid))\n",
        "  print(\"Training RMSLE\",rmse(model.predict(x_train),y_train))\n",
        "  print(\"Valid RMSLE\",rmse(model.predict(x_valid),y_valid))\n",
        "\n"
      ],
      "execution_count": null,
      "outputs": []
    },
    {
      "cell_type": "markdown",
      "metadata": {
        "id": "oqukdhpiYv-u"
      },
      "source": [
        "**Train the model**"
      ]
    },
    {
      "cell_type": "code",
      "metadata": {
        "colab": {
          "base_uri": "https://localhost:8080/"
        },
        "id": "HTniQJYmiPb8",
        "outputId": "d85e314f-f37e-4d92-d5b0-a631fb1b693b"
      },
      "source": [
        "m = RandomForestRegressor(n_jobs=-1)\n",
        "m.fit(x_train, y_train)\n",
        "\n",
        "\n"
      ],
      "execution_count": null,
      "outputs": [
        {
          "output_type": "execute_result",
          "data": {
            "text/plain": [
              "RandomForestRegressor(bootstrap=True, ccp_alpha=0.0, criterion='mse',\n",
              "                      max_depth=None, max_features='auto', max_leaf_nodes=None,\n",
              "                      max_samples=None, min_impurity_decrease=0.0,\n",
              "                      min_impurity_split=None, min_samples_leaf=1,\n",
              "                      min_samples_split=2, min_weight_fraction_leaf=0.0,\n",
              "                      n_estimators=100, n_jobs=-1, oob_score=False,\n",
              "                      random_state=None, verbose=0, warm_start=False)"
            ]
          },
          "metadata": {
            "tags": []
          },
          "execution_count": 71
        }
      ]
    },
    {
      "cell_type": "code",
      "metadata": {
        "colab": {
          "base_uri": "https://localhost:8080/"
        },
        "id": "OqrZSsY7Yns6",
        "outputId": "f9682e3f-5075-439d-9a5b-277635bfdda1"
      },
      "source": [
        "show_evalution_score(m)"
      ],
      "execution_count": null,
      "outputs": [
        {
          "output_type": "stream",
          "text": [
            "Training score 0.9874250289527058\n",
            "Valid score 0.9125503699681762\n",
            "Training RMSLE 0.08438261449267169\n",
            "Valid RMSLE 0.21031149422681375\n"
          ],
          "name": "stdout"
        }
      ]
    },
    {
      "cell_type": "markdown",
      "metadata": {
        "id": "wWRTRrVWY7j1"
      },
      "source": [
        "there is difference between the train and validton score we have here overfitting "
      ]
    },
    {
      "cell_type": "markdown",
      "metadata": {
        "id": "FGylIWnf5qbc"
      },
      "source": [
        "**Hyperparameter tunning with GridSearchCV**"
      ]
    },
    {
      "cell_type": "markdown",
      "metadata": {
        "id": "7ss7iYuuYsOM"
      },
      "source": [
        "we will use Grid search to find the best paramters "
      ]
    },
    {
      "cell_type": "code",
      "metadata": {
        "id": "1Va8tD2Y5xPg"
      },
      "source": [
        "\n",
        "from sklearn.model_selection import RandomizedSearchCV\n",
        "\n",
        " # Different RandomForestRegressor hyperparameters\n",
        "rf_grid = {\"n_estimators\": np.arange(20, 100, 20),\n",
        "          \"max_depth\": [None, 3, 5, 10],\n",
        "          \"min_samples_split\": np.arange(2, 20, 2),\n",
        "          \"min_samples_leaf\": np.arange(1, 20, 2),\n",
        "          \"max_features\": [0,5, 1, \"sqrt\", \"auto\"],\n",
        "          \"max_samples\": [10000]}\n",
        "\n",
        " # Instantiate RandomizedSearchCV\n",
        "scv_model = RandomizedSearchCV(RandomForestRegressor(n_jobs=-1,\n",
        "                                                   random_state=12),\n",
        "                             param_distributions=rf_grid,\n",
        "                             n_iter=50,\n",
        "                             cv=5,\n",
        "                             verbose=True)\n",
        "\n",
        " # Fit the RandomizedSearchCV\n",
        "scv_model.fit(x_train, y_train)"
      ],
      "execution_count": null,
      "outputs": []
    },
    {
      "cell_type": "code",
      "metadata": {
        "id": "JDNo46rJ6Flj"
      },
      "source": [
        "scv_model.best_params_"
      ],
      "execution_count": null,
      "outputs": []
    },
    {
      "cell_type": "code",
      "metadata": {
        "colab": {
          "base_uri": "https://localhost:8080/"
        },
        "id": "UYhONf_k6Le1",
        "outputId": "0466c1a1-9cf1-4012-9465-5412a31f5373"
      },
      "source": [
        "show_evalution_score(scv_model)"
      ],
      "execution_count": null,
      "outputs": [
        {
          "output_type": "stream",
          "text": [
            "Training score 0.8183773855054859\n",
            "Valid score 0.8145317375991589\n",
            "Training RMSLE 0.2927624705120116\n",
            "Valid RMSLE 0.2978807541685223\n"
          ],
          "name": "stdout"
        }
      ]
    },
    {
      "cell_type": "markdown",
      "metadata": {
        "id": "YGI52f3je77X"
      },
      "source": [
        "**Train a model with the best hyperparameters**"
      ]
    },
    {
      "cell_type": "code",
      "metadata": {
        "id": "-XxgWQXD7rzM"
      },
      "source": [
        "best_model = RandomForestRegressor(n_estimators=60,\n",
        "                                   min_samples_leaf=7,\n",
        "                                   min_samples_split=12,\n",
        "                                   max_features='auto',\n",
        "                                   n_jobs=-1,\n",
        "                                   max_samples=None,\n",
        "                                   random_state=12)"
      ],
      "execution_count": null,
      "outputs": []
    },
    {
      "cell_type": "code",
      "metadata": {
        "colab": {
          "base_uri": "https://localhost:8080/"
        },
        "id": "SKYK7xlG72qA",
        "outputId": "d1aaf895-2b48-40fd-e1cd-0cf257a80ef9"
      },
      "source": [
        "best_model.fit(x_train, y_train)"
      ],
      "execution_count": null,
      "outputs": [
        {
          "output_type": "execute_result",
          "data": {
            "text/plain": [
              "RandomForestRegressor(bootstrap=True, ccp_alpha=0.0, criterion='mse',\n",
              "                      max_depth=None, max_features='auto', max_leaf_nodes=None,\n",
              "                      max_samples=None, min_impurity_decrease=0.0,\n",
              "                      min_impurity_split=None, min_samples_leaf=7,\n",
              "                      min_samples_split=12, min_weight_fraction_leaf=0.0,\n",
              "                      n_estimators=60, n_jobs=-1, oob_score=False,\n",
              "                      random_state=12, verbose=0, warm_start=False)"
            ]
          },
          "metadata": {
            "tags": []
          },
          "execution_count": 78
        }
      ]
    },
    {
      "cell_type": "code",
      "metadata": {
        "colab": {
          "base_uri": "https://localhost:8080/"
        },
        "id": "fVBw9ejM798L",
        "outputId": "f150e14d-1944-4a26-a748-ecd8ef5b64e0"
      },
      "source": [
        "show_evalution_score(best_model)"
      ],
      "execution_count": null,
      "outputs": [
        {
          "output_type": "stream",
          "text": [
            "Training score 0.9412147475676828\n",
            "Valid score 0.9037022378478624\n",
            "Training RMSLE 0.1688309965013587\n",
            "Valid RMSLE 0.21899367711846998\n"
          ],
          "name": "stdout"
        }
      ]
    },
    {
      "cell_type": "markdown",
      "metadata": {
        "id": "dQf_EyD5fbKs"
      },
      "source": [
        "**Make predictions on test data**"
      ]
    },
    {
      "cell_type": "code",
      "metadata": {
        "colab": {
          "base_uri": "https://localhost:8080/"
        },
        "id": "CETV51iNfceY",
        "outputId": "7f13ddcc-dbc5-4b39-f2f2-96dc0adf21f0"
      },
      "source": [
        "test_pred=best_model.predict(data_test)\r\n",
        "test_pred"
      ],
      "execution_count": null,
      "outputs": [
        {
          "output_type": "execute_result",
          "data": {
            "text/plain": [
              "array([28051.4496712 , 23015.86599842, 92823.75033105, ...,\n",
              "       11436.3532862 , 21797.81002794, 28294.83049189])"
            ]
          },
          "metadata": {
            "tags": []
          },
          "execution_count": 80
        }
      ]
    },
    {
      "cell_type": "code",
      "metadata": {
        "colab": {
          "base_uri": "https://localhost:8080/",
          "height": 419
        },
        "id": "VRkf9DITgi3J",
        "outputId": "804d8870-707c-46ae-9f47-2efdff5aaabc"
      },
      "source": [
        "df_predict=pd.DataFrame()\r\n",
        "df_predict[\"SalesID\"] = sales_id\r\n",
        "df_predict[\"SalesPrice\"] = test_pred\r\n",
        "df_predict"
      ],
      "execution_count": null,
      "outputs": [
        {
          "output_type": "execute_result",
          "data": {
            "text/html": [
              "<div>\n",
              "<style scoped>\n",
              "    .dataframe tbody tr th:only-of-type {\n",
              "        vertical-align: middle;\n",
              "    }\n",
              "\n",
              "    .dataframe tbody tr th {\n",
              "        vertical-align: top;\n",
              "    }\n",
              "\n",
              "    .dataframe thead th {\n",
              "        text-align: right;\n",
              "    }\n",
              "</style>\n",
              "<table border=\"1\" class=\"dataframe\">\n",
              "  <thead>\n",
              "    <tr style=\"text-align: right;\">\n",
              "      <th></th>\n",
              "      <th>SalesID</th>\n",
              "      <th>SalesPrice</th>\n",
              "    </tr>\n",
              "  </thead>\n",
              "  <tbody>\n",
              "    <tr>\n",
              "      <th>0</th>\n",
              "      <td>1227829</td>\n",
              "      <td>28051.449671</td>\n",
              "    </tr>\n",
              "    <tr>\n",
              "      <th>1</th>\n",
              "      <td>1227844</td>\n",
              "      <td>23015.865998</td>\n",
              "    </tr>\n",
              "    <tr>\n",
              "      <th>2</th>\n",
              "      <td>1227847</td>\n",
              "      <td>92823.750331</td>\n",
              "    </tr>\n",
              "    <tr>\n",
              "      <th>3</th>\n",
              "      <td>1227848</td>\n",
              "      <td>98353.769183</td>\n",
              "    </tr>\n",
              "    <tr>\n",
              "      <th>4</th>\n",
              "      <td>1227863</td>\n",
              "      <td>57427.565476</td>\n",
              "    </tr>\n",
              "    <tr>\n",
              "      <th>...</th>\n",
              "      <td>...</td>\n",
              "      <td>...</td>\n",
              "    </tr>\n",
              "    <tr>\n",
              "      <th>12452</th>\n",
              "      <td>6643171</td>\n",
              "      <td>48993.317846</td>\n",
              "    </tr>\n",
              "    <tr>\n",
              "      <th>12453</th>\n",
              "      <td>6643173</td>\n",
              "      <td>19506.552379</td>\n",
              "    </tr>\n",
              "    <tr>\n",
              "      <th>12454</th>\n",
              "      <td>6643184</td>\n",
              "      <td>11436.353286</td>\n",
              "    </tr>\n",
              "    <tr>\n",
              "      <th>12455</th>\n",
              "      <td>6643186</td>\n",
              "      <td>21797.810028</td>\n",
              "    </tr>\n",
              "    <tr>\n",
              "      <th>12456</th>\n",
              "      <td>6643196</td>\n",
              "      <td>28294.830492</td>\n",
              "    </tr>\n",
              "  </tbody>\n",
              "</table>\n",
              "<p>12457 rows × 2 columns</p>\n",
              "</div>"
            ],
            "text/plain": [
              "       SalesID    SalesPrice\n",
              "0      1227829  28051.449671\n",
              "1      1227844  23015.865998\n",
              "2      1227847  92823.750331\n",
              "3      1227848  98353.769183\n",
              "4      1227863  57427.565476\n",
              "...        ...           ...\n",
              "12452  6643171  48993.317846\n",
              "12453  6643173  19506.552379\n",
              "12454  6643184  11436.353286\n",
              "12455  6643186  21797.810028\n",
              "12456  6643196  28294.830492\n",
              "\n",
              "[12457 rows x 2 columns]"
            ]
          },
          "metadata": {
            "tags": []
          },
          "execution_count": 82
        }
      ]
    }
  ]
}